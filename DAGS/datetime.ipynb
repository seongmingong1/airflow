{
 "cells": [
  {
   "cell_type": "code",
   "execution_count": null,
   "metadata": {},
   "outputs": [],
   "source": []
  },
  {
   "cell_type": "code",
   "execution_count": 1,
   "metadata": {},
   "outputs": [],
   "source": [
    "from datetime import datetime\n",
    "from dateutil import relativedelta"
   ]
  },
  {
   "cell_type": "code",
   "execution_count": 4,
   "metadata": {},
   "outputs": [
    {
     "name": "stdout",
     "output_type": "stream",
     "text": [
      "현재시간:2024-10-10 00:00:00\n",
      "-------------월연산-----------\n",
      "2024-09-10 00:00:00\n",
      "2024-09-10 00:00:00\n",
      "2024-09-10 00:00:00\n",
      "-------------일연산-----------\n",
      "2024-10-09 00:00:00\n",
      "2024-10-09 00:00:00\n",
      "2024-10-09 00:00:00\n",
      "-------------연산 여러개-----------\n",
      "2024-09-09 00:00:00\n"
     ]
    }
   ],
   "source": [
    "now = datetime(year=2024, month=10, day=10)\n",
    "print('현재시간:' +str(now))\n",
    "print('-------------월연산-----------')\n",
    "print(now + relativedelta.relativedelta(month=9)) # 9월로 변경\n",
    "print(now.replace(month=9)) # 9월로 변경\n",
    "print(now + relativedelta.relativedelta(months=-1)) #1개월 빼기 \n",
    "\n",
    "print('-------------일연산-----------')\n",
    "print(now + relativedelta.relativedelta(day=9)) # 9일로 변경\n",
    "print(now.replace(day=9)) # 9일로 변경\n",
    "print(now + relativedelta.relativedelta(days=-1)) #1일 빼기 \n",
    "\n",
    "print('-------------연산 여러개-----------')\n",
    "print(now + relativedelta.relativedelta(months=-1) + relativedelta.relativedelta(days=-1)) # 1month, 1day minus\n",
    "\n",
    "\n"
   ]
  },
  {
   "cell_type": "code",
   "execution_count": null,
   "metadata": {},
   "outputs": [],
   "source": []
  }
 ],
 "metadata": {
  "kernelspec": {
   "display_name": "deepl",
   "language": "python",
   "name": "deepl"
  },
  "language_info": {
   "codemirror_mode": {
    "name": "ipython",
    "version": 3
   },
   "file_extension": ".py",
   "mimetype": "text/x-python",
   "name": "python",
   "nbconvert_exporter": "python",
   "pygments_lexer": "ipython3",
   "version": "3.9.12"
  }
 },
 "nbformat": 4,
 "nbformat_minor": 2
}
